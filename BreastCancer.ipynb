{
 "cells": [
  {
   "cell_type": "markdown",
   "metadata": {},
   "source": [
    "# Breast Cancer Analysis"
   ]
  },
  {
   "cell_type": "code",
   "execution_count": 8,
   "metadata": {},
   "outputs": [],
   "source": [
    "# Required Python Packages\n",
    "import pandas as pd\n",
    "import numpy as np\n",
    "from sklearn.model_selection import train_test_split\n",
    "from sklearn.ensemble import RandomForestClassifier\n",
    "from sklearn.metrics import accuracy_score\n",
    "from sklearn.metrics import classification_report, confusion_matrix\n",
    "from sklearn import tree"
   ]
  },
  {
   "cell_type": "code",
   "execution_count": 9,
   "metadata": {},
   "outputs": [],
   "source": [
    "# Read Data train\n",
    "df = pd.read_csv('breast-cancer-wisconsin.csv')"
   ]
  },
  {
   "cell_type": "code",
   "execution_count": 10,
   "metadata": {},
   "outputs": [
    {
     "data": {
      "text/html": [
       "<div>\n",
       "<style scoped>\n",
       "    .dataframe tbody tr th:only-of-type {\n",
       "        vertical-align: middle;\n",
       "    }\n",
       "\n",
       "    .dataframe tbody tr th {\n",
       "        vertical-align: top;\n",
       "    }\n",
       "\n",
       "    .dataframe thead th {\n",
       "        text-align: right;\n",
       "    }\n",
       "</style>\n",
       "<table border=\"1\" class=\"dataframe\">\n",
       "  <thead>\n",
       "    <tr style=\"text-align: right;\">\n",
       "      <th></th>\n",
       "      <th>CodeNumber</th>\n",
       "      <th>ClumpThickness</th>\n",
       "      <th>UniformityCellSize</th>\n",
       "      <th>UniformityCellShape</th>\n",
       "      <th>MarginalAdhesion</th>\n",
       "      <th>SingleEpithelialCellSize</th>\n",
       "      <th>BareNuclei</th>\n",
       "      <th>BlandChromatin</th>\n",
       "      <th>NormalNucleoli</th>\n",
       "      <th>Mitoses</th>\n",
       "      <th>CancerType</th>\n",
       "    </tr>\n",
       "  </thead>\n",
       "  <tbody>\n",
       "    <tr>\n",
       "      <th>0</th>\n",
       "      <td>1002945</td>\n",
       "      <td>5</td>\n",
       "      <td>4</td>\n",
       "      <td>4</td>\n",
       "      <td>5</td>\n",
       "      <td>7</td>\n",
       "      <td>10</td>\n",
       "      <td>3</td>\n",
       "      <td>2</td>\n",
       "      <td>1</td>\n",
       "      <td>2</td>\n",
       "    </tr>\n",
       "    <tr>\n",
       "      <th>1</th>\n",
       "      <td>1015425</td>\n",
       "      <td>3</td>\n",
       "      <td>1</td>\n",
       "      <td>1</td>\n",
       "      <td>1</td>\n",
       "      <td>2</td>\n",
       "      <td>2</td>\n",
       "      <td>3</td>\n",
       "      <td>1</td>\n",
       "      <td>1</td>\n",
       "      <td>2</td>\n",
       "    </tr>\n",
       "    <tr>\n",
       "      <th>2</th>\n",
       "      <td>1016277</td>\n",
       "      <td>6</td>\n",
       "      <td>8</td>\n",
       "      <td>8</td>\n",
       "      <td>1</td>\n",
       "      <td>3</td>\n",
       "      <td>4</td>\n",
       "      <td>3</td>\n",
       "      <td>7</td>\n",
       "      <td>1</td>\n",
       "      <td>2</td>\n",
       "    </tr>\n",
       "    <tr>\n",
       "      <th>3</th>\n",
       "      <td>1017023</td>\n",
       "      <td>4</td>\n",
       "      <td>1</td>\n",
       "      <td>1</td>\n",
       "      <td>3</td>\n",
       "      <td>2</td>\n",
       "      <td>1</td>\n",
       "      <td>3</td>\n",
       "      <td>1</td>\n",
       "      <td>1</td>\n",
       "      <td>2</td>\n",
       "    </tr>\n",
       "    <tr>\n",
       "      <th>4</th>\n",
       "      <td>1017122</td>\n",
       "      <td>8</td>\n",
       "      <td>10</td>\n",
       "      <td>10</td>\n",
       "      <td>8</td>\n",
       "      <td>7</td>\n",
       "      <td>10</td>\n",
       "      <td>9</td>\n",
       "      <td>7</td>\n",
       "      <td>1</td>\n",
       "      <td>4</td>\n",
       "    </tr>\n",
       "  </tbody>\n",
       "</table>\n",
       "</div>"
      ],
      "text/plain": [
       "   CodeNumber  ClumpThickness  UniformityCellSize  UniformityCellShape  \\\n",
       "0     1002945               5                   4                    4   \n",
       "1     1015425               3                   1                    1   \n",
       "2     1016277               6                   8                    8   \n",
       "3     1017023               4                   1                    1   \n",
       "4     1017122               8                  10                   10   \n",
       "\n",
       "   MarginalAdhesion  SingleEpithelialCellSize BareNuclei  BlandChromatin  \\\n",
       "0                 5                         7         10               3   \n",
       "1                 1                         2          2               3   \n",
       "2                 1                         3          4               3   \n",
       "3                 3                         2          1               3   \n",
       "4                 8                         7         10               9   \n",
       "\n",
       "   NormalNucleoli  Mitoses  CancerType  \n",
       "0               2        1           2  \n",
       "1               1        1           2  \n",
       "2               7        1           2  \n",
       "3               1        1           2  \n",
       "4               7        1           4  "
      ]
     },
     "execution_count": 10,
     "metadata": {},
     "output_type": "execute_result"
    }
   ],
   "source": [
    "df.head()"
   ]
  },
  {
   "cell_type": "code",
   "execution_count": 11,
   "metadata": {},
   "outputs": [
    {
     "name": "stdout",
     "output_type": "stream",
     "text": [
      "<class 'pandas.core.frame.DataFrame'>\n",
      "RangeIndex: 698 entries, 0 to 697\n",
      "Data columns (total 11 columns):\n",
      "CodeNumber                  698 non-null int64\n",
      "ClumpThickness              698 non-null int64\n",
      "UniformityCellSize          698 non-null int64\n",
      "UniformityCellShape         698 non-null int64\n",
      "MarginalAdhesion            698 non-null int64\n",
      "SingleEpithelialCellSize    698 non-null int64\n",
      "BareNuclei                  698 non-null object\n",
      "BlandChromatin              698 non-null int64\n",
      "NormalNucleoli              698 non-null int64\n",
      "Mitoses                     698 non-null int64\n",
      "CancerType                  698 non-null int64\n",
      "dtypes: int64(10), object(1)\n",
      "memory usage: 60.1+ KB\n"
     ]
    }
   ],
   "source": [
    "df.info()"
   ]
  },
  {
   "cell_type": "code",
   "execution_count": 12,
   "metadata": {},
   "outputs": [
    {
     "name": "stdout",
     "output_type": "stream",
     "text": [
      "Percentage of Empty in Each Attributes\n"
     ]
    },
    {
     "data": {
      "text/plain": [
       "CodeNumber                  0.000000\n",
       "ClumpThickness              0.000000\n",
       "UniformityCellSize          0.000000\n",
       "UniformityCellShape         0.000000\n",
       "MarginalAdhesion            0.000000\n",
       "SingleEpithelialCellSize    0.000000\n",
       "BareNuclei                  0.022923\n",
       "BlandChromatin              0.000000\n",
       "NormalNucleoli              0.000000\n",
       "Mitoses                     0.000000\n",
       "CancerType                  0.000000\n",
       "dtype: float64"
      ]
     },
     "execution_count": 12,
     "metadata": {},
     "output_type": "execute_result"
    }
   ],
   "source": [
    "# Replace ? with nan\n",
    "df.replace({\"?\":np.nan}, inplace=True)\n",
    "print(\"Percentage of Empty in Each Attributes\")\n",
    "df.isnull().sum(axis = 0)/len(df)"
   ]
  },
  {
   "cell_type": "code",
   "execution_count": 13,
   "metadata": {},
   "outputs": [],
   "source": [
    "df.drop(df[pd.isnull(df['BareNuclei'])].index, inplace=True)"
   ]
  },
  {
   "cell_type": "code",
   "execution_count": 14,
   "metadata": {},
   "outputs": [
    {
     "data": {
      "text/html": [
       "<div>\n",
       "<style scoped>\n",
       "    .dataframe tbody tr th:only-of-type {\n",
       "        vertical-align: middle;\n",
       "    }\n",
       "\n",
       "    .dataframe tbody tr th {\n",
       "        vertical-align: top;\n",
       "    }\n",
       "\n",
       "    .dataframe thead th {\n",
       "        text-align: right;\n",
       "    }\n",
       "</style>\n",
       "<table border=\"1\" class=\"dataframe\">\n",
       "  <thead>\n",
       "    <tr style=\"text-align: right;\">\n",
       "      <th></th>\n",
       "      <th>CodeNumber</th>\n",
       "      <th>ClumpThickness</th>\n",
       "      <th>UniformityCellSize</th>\n",
       "      <th>UniformityCellShape</th>\n",
       "      <th>MarginalAdhesion</th>\n",
       "      <th>SingleEpithelialCellSize</th>\n",
       "      <th>BlandChromatin</th>\n",
       "      <th>NormalNucleoli</th>\n",
       "      <th>Mitoses</th>\n",
       "      <th>CancerType</th>\n",
       "    </tr>\n",
       "  </thead>\n",
       "  <tbody>\n",
       "    <tr>\n",
       "      <th>count</th>\n",
       "      <td>6.820000e+02</td>\n",
       "      <td>682.000000</td>\n",
       "      <td>682.000000</td>\n",
       "      <td>682.000000</td>\n",
       "      <td>682.000000</td>\n",
       "      <td>682.000000</td>\n",
       "      <td>682.000000</td>\n",
       "      <td>682.000000</td>\n",
       "      <td>682.000000</td>\n",
       "      <td>682.000000</td>\n",
       "    </tr>\n",
       "    <tr>\n",
       "      <th>mean</th>\n",
       "      <td>1.076833e+06</td>\n",
       "      <td>4.441349</td>\n",
       "      <td>3.153959</td>\n",
       "      <td>3.218475</td>\n",
       "      <td>2.832845</td>\n",
       "      <td>3.236070</td>\n",
       "      <td>3.445748</td>\n",
       "      <td>2.872434</td>\n",
       "      <td>1.604106</td>\n",
       "      <td>2.700880</td>\n",
       "    </tr>\n",
       "    <tr>\n",
       "      <th>std</th>\n",
       "      <td>6.210926e+05</td>\n",
       "      <td>2.822751</td>\n",
       "      <td>3.066285</td>\n",
       "      <td>2.989568</td>\n",
       "      <td>2.865805</td>\n",
       "      <td>2.224214</td>\n",
       "      <td>2.451435</td>\n",
       "      <td>3.054065</td>\n",
       "      <td>1.733792</td>\n",
       "      <td>0.954916</td>\n",
       "    </tr>\n",
       "    <tr>\n",
       "      <th>min</th>\n",
       "      <td>6.337500e+04</td>\n",
       "      <td>1.000000</td>\n",
       "      <td>1.000000</td>\n",
       "      <td>1.000000</td>\n",
       "      <td>1.000000</td>\n",
       "      <td>1.000000</td>\n",
       "      <td>1.000000</td>\n",
       "      <td>1.000000</td>\n",
       "      <td>1.000000</td>\n",
       "      <td>2.000000</td>\n",
       "    </tr>\n",
       "    <tr>\n",
       "      <th>25%</th>\n",
       "      <td>8.774540e+05</td>\n",
       "      <td>2.000000</td>\n",
       "      <td>1.000000</td>\n",
       "      <td>1.000000</td>\n",
       "      <td>1.000000</td>\n",
       "      <td>2.000000</td>\n",
       "      <td>2.000000</td>\n",
       "      <td>1.000000</td>\n",
       "      <td>1.000000</td>\n",
       "      <td>2.000000</td>\n",
       "    </tr>\n",
       "    <tr>\n",
       "      <th>50%</th>\n",
       "      <td>1.171820e+06</td>\n",
       "      <td>4.000000</td>\n",
       "      <td>1.000000</td>\n",
       "      <td>1.000000</td>\n",
       "      <td>1.000000</td>\n",
       "      <td>2.000000</td>\n",
       "      <td>3.000000</td>\n",
       "      <td>1.000000</td>\n",
       "      <td>1.000000</td>\n",
       "      <td>2.000000</td>\n",
       "    </tr>\n",
       "    <tr>\n",
       "      <th>75%</th>\n",
       "      <td>1.238741e+06</td>\n",
       "      <td>6.000000</td>\n",
       "      <td>5.000000</td>\n",
       "      <td>5.000000</td>\n",
       "      <td>4.000000</td>\n",
       "      <td>4.000000</td>\n",
       "      <td>5.000000</td>\n",
       "      <td>4.000000</td>\n",
       "      <td>1.000000</td>\n",
       "      <td>4.000000</td>\n",
       "    </tr>\n",
       "    <tr>\n",
       "      <th>max</th>\n",
       "      <td>1.345435e+07</td>\n",
       "      <td>10.000000</td>\n",
       "      <td>10.000000</td>\n",
       "      <td>10.000000</td>\n",
       "      <td>10.000000</td>\n",
       "      <td>10.000000</td>\n",
       "      <td>10.000000</td>\n",
       "      <td>10.000000</td>\n",
       "      <td>10.000000</td>\n",
       "      <td>4.000000</td>\n",
       "    </tr>\n",
       "  </tbody>\n",
       "</table>\n",
       "</div>"
      ],
      "text/plain": [
       "         CodeNumber  ClumpThickness  UniformityCellSize  UniformityCellShape  \\\n",
       "count  6.820000e+02      682.000000          682.000000           682.000000   \n",
       "mean   1.076833e+06        4.441349            3.153959             3.218475   \n",
       "std    6.210926e+05        2.822751            3.066285             2.989568   \n",
       "min    6.337500e+04        1.000000            1.000000             1.000000   \n",
       "25%    8.774540e+05        2.000000            1.000000             1.000000   \n",
       "50%    1.171820e+06        4.000000            1.000000             1.000000   \n",
       "75%    1.238741e+06        6.000000            5.000000             5.000000   \n",
       "max    1.345435e+07       10.000000           10.000000            10.000000   \n",
       "\n",
       "       MarginalAdhesion  SingleEpithelialCellSize  BlandChromatin  \\\n",
       "count        682.000000                682.000000      682.000000   \n",
       "mean           2.832845                  3.236070        3.445748   \n",
       "std            2.865805                  2.224214        2.451435   \n",
       "min            1.000000                  1.000000        1.000000   \n",
       "25%            1.000000                  2.000000        2.000000   \n",
       "50%            1.000000                  2.000000        3.000000   \n",
       "75%            4.000000                  4.000000        5.000000   \n",
       "max           10.000000                 10.000000       10.000000   \n",
       "\n",
       "       NormalNucleoli     Mitoses  CancerType  \n",
       "count      682.000000  682.000000  682.000000  \n",
       "mean         2.872434    1.604106    2.700880  \n",
       "std          3.054065    1.733792    0.954916  \n",
       "min          1.000000    1.000000    2.000000  \n",
       "25%          1.000000    1.000000    2.000000  \n",
       "50%          1.000000    1.000000    2.000000  \n",
       "75%          4.000000    1.000000    4.000000  \n",
       "max         10.000000   10.000000    4.000000  "
      ]
     },
     "execution_count": 14,
     "metadata": {},
     "output_type": "execute_result"
    }
   ],
   "source": [
    "df.describe()"
   ]
  },
  {
   "cell_type": "code",
   "execution_count": 15,
   "metadata": {},
   "outputs": [
    {
     "data": {
      "text/plain": [
       "<matplotlib.figure.Figure at 0x1306bfce5f8>"
      ]
     },
     "metadata": {},
     "output_type": "display_data"
    }
   ],
   "source": [
    "import seaborn as sns\n",
    "import matplotlib.pyplot as plt\n",
    "\n",
    "corr = df.corr()\n",
    "# Mask the repeated values\n",
    "mask = np.zeros_like(corr, dtype=np.bool)\n",
    "mask[np.triu_indices_from(mask)] = True\n",
    "  \n",
    "f, ax = plt.subplots(figsize=(10, 8))\n",
    "#Generate Heat Map, allow annotations and place floats in map\n",
    "sns.heatmap(corr, annot=True, fmt=\".2f\" , mask=mask,)\n",
    "    #Apply xticks\n",
    "plt.xticks(range(len(corr.columns)), corr.columns);\n",
    "    #Apply yticks\n",
    "plt.yticks(range(len(corr.columns)), corr.columns)\n",
    "    #show plot\n",
    "plt.show()"
   ]
  },
  {
   "cell_type": "markdown",
   "metadata": {},
   "source": [
    "## Learning Phase"
   ]
  },
  {
   "cell_type": "code",
   "execution_count": 16,
   "metadata": {},
   "outputs": [
    {
     "name": "stdout",
     "output_type": "stream",
     "text": [
      "Train_x Shape ::  477\n",
      "Train_y Shape ::  477\n",
      "Test_x Shape ::  205\n",
      "Test_y Shape ::  205\n"
     ]
    }
   ],
   "source": [
    "y = df['CancerType']\n",
    "X = df.drop(['CodeNumber', 'CancerType'], axis=1)\n",
    "X_train, X_test, y_train, y_test = train_test_split(X, y, test_size = 0.3, random_state=50)\n",
    "print(\"Train_x Shape :: \", X_train.shape[0])\n",
    "print(\"Train_y Shape :: \", y_train.shape[0])\n",
    "print(\"Test_x Shape :: \", X_test.shape[0])\n",
    "print(\"Test_y Shape :: \", y_test.shape[0])"
   ]
  },
  {
   "cell_type": "markdown",
   "metadata": {},
   "source": [
    "### 1. Decision Tree"
   ]
  },
  {
   "cell_type": "code",
   "execution_count": 17,
   "metadata": {},
   "outputs": [
    {
     "name": "stdout",
     "output_type": "stream",
     "text": [
      "Accuracy : 0.9317073170731708\n",
      "              precision    recall  f1-score   support\n",
      "\n",
      "           2       0.93      0.96      0.95       128\n",
      "           4       0.93      0.88      0.91        77\n",
      "\n",
      "   micro avg       0.93      0.93      0.93       205\n",
      "   macro avg       0.93      0.92      0.93       205\n",
      "weighted avg       0.93      0.93      0.93       205\n",
      "\n",
      "Actual outcome :: 2 and Predicted outcome :: 2\n",
      "Actual outcome :: 2 and Predicted outcome :: 2\n",
      "Actual outcome :: 2 and Predicted outcome :: 2\n",
      "Actual outcome :: 2 and Predicted outcome :: 2\n",
      "Actual outcome :: 4 and Predicted outcome :: 4\n"
     ]
    }
   ],
   "source": [
    "dt = tree.DecisionTreeClassifier()\n",
    "dt.fit(X_train, y_train)\n",
    "dt_pred = dt.predict(X_test)\n",
    "print('Accuracy : ' + str(accuracy_score(y_test, dt_pred)))\n",
    "print(classification_report(y_test,dt_pred))\n",
    "\n",
    "for i in range(0, 5):\n",
    "        print(\"Actual outcome :: {} and Predicted outcome :: {}\".format(list(y_test)[i], dt_pred[i]))"
   ]
  },
  {
   "cell_type": "markdown",
   "metadata": {},
   "source": [
    "### 2. Random Forest"
   ]
  },
  {
   "cell_type": "code",
   "execution_count": 18,
   "metadata": {},
   "outputs": [
    {
     "name": "stdout",
     "output_type": "stream",
     "text": [
      "Accuracy : 0.9658536585365853\n",
      "              precision    recall  f1-score   support\n",
      "\n",
      "           2       0.97      0.98      0.97       128\n",
      "           4       0.96      0.95      0.95        77\n",
      "\n",
      "   micro avg       0.97      0.97      0.97       205\n",
      "   macro avg       0.96      0.96      0.96       205\n",
      "weighted avg       0.97      0.97      0.97       205\n",
      "\n",
      "Actual outcome :: 2 and Predicted outcome :: 2\n",
      "Actual outcome :: 2 and Predicted outcome :: 2\n",
      "Actual outcome :: 2 and Predicted outcome :: 2\n",
      "Actual outcome :: 2 and Predicted outcome :: 4\n",
      "Actual outcome :: 4 and Predicted outcome :: 4\n"
     ]
    }
   ],
   "source": [
    "dt = RandomForestClassifier(20)\n",
    "dt.fit(X_train, y_train)\n",
    "dt_pred = dt.predict(X_test)\n",
    "\n",
    "print('Accuracy : ' + str(accuracy_score(y_test, dt_pred)))\n",
    "print(classification_report(y_test,dt_pred))\n",
    "\n",
    "for i in range(0, 5):\n",
    "        print(\"Actual outcome :: {} and Predicted outcome :: {}\".format(list(y_test)[i], dt_pred[i]))"
   ]
  },
  {
   "cell_type": "code",
   "execution_count": null,
   "metadata": {},
   "outputs": [],
   "source": []
  },
  {
   "cell_type": "code",
   "execution_count": null,
   "metadata": {},
   "outputs": [],
   "source": []
  }
 ],
 "metadata": {
  "kernelspec": {
   "display_name": "Python 3",
   "language": "python",
   "name": "python3"
  },
  "language_info": {
   "codemirror_mode": {
    "name": "ipython",
    "version": 3
   },
   "file_extension": ".py",
   "mimetype": "text/x-python",
   "name": "python",
   "nbconvert_exporter": "python",
   "pygments_lexer": "ipython3",
   "version": "3.6.5"
  }
 },
 "nbformat": 4,
 "nbformat_minor": 2
}
